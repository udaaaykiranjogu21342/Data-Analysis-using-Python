{
  "nbformat": 4,
  "nbformat_minor": 0,
  "metadata": {
    "colab": {
      "provenance": []
    },
    "kernelspec": {
      "name": "python3",
      "display_name": "Python 3"
    },
    "language_info": {
      "name": "python"
    }
  },
  "cells": [
    {
      "cell_type": "code",
      "execution_count": 1,
      "metadata": {
        "colab": {
          "base_uri": "https://localhost:8080/"
        },
        "id": "4RZR2oQYhn0A",
        "outputId": "7619a96e-4153-4c3d-fa80-abc1afdb0315"
      },
      "outputs": [
        {
          "output_type": "stream",
          "name": "stdout",
          "text": [
            "Downloading from https://www.kaggle.com/api/v1/datasets/download/hussameldinanwer/mimic-iii?dataset_version_number=1...\n"
          ]
        },
        {
          "output_type": "stream",
          "name": "stderr",
          "text": [
            "100%|██████████| 100M/100M [00:03<00:00, 30.9MB/s] "
          ]
        },
        {
          "output_type": "stream",
          "name": "stdout",
          "text": [
            "Extracting files...\n"
          ]
        },
        {
          "output_type": "stream",
          "name": "stderr",
          "text": [
            "\n"
          ]
        },
        {
          "output_type": "stream",
          "name": "stdout",
          "text": [
            "Path to dataset files: /root/.cache/kagglehub/datasets/hussameldinanwer/mimic-iii/versions/1\n"
          ]
        }
      ],
      "source": [
        "import kagglehub\n",
        "\n",
        "# Download latest version\n",
        "path = kagglehub.dataset_download(\"hussameldinanwer/mimic-iii\")\n",
        "\n",
        "print(\"Path to dataset files:\", path)"
      ]
    },
    {
      "cell_type": "code",
      "source": [
        "import numpy as np\n",
        "import pandas as pd\n",
        "import matplotlib.pyplot as plt\n",
        "import seaborn as sns\n",
        "from scipy import stats"
      ],
      "metadata": {
        "id": "GQQpPg-ohwOp"
      },
      "execution_count": 2,
      "outputs": []
    },
    {
      "cell_type": "code",
      "source": [
        "df = pd.read_csv(f\"{path}/PRESCRIPTIONS.csv\")"
      ],
      "metadata": {
        "colab": {
          "base_uri": "https://localhost:8080/"
        },
        "id": "8URm00BjhwMm",
        "outputId": "39fdddae-6d0e-4016-9725-92eb0c3ce561"
      },
      "execution_count": 3,
      "outputs": [
        {
          "output_type": "stream",
          "name": "stderr",
          "text": [
            "<ipython-input-3-214f219d9068>:1: DtypeWarning: Columns (11) have mixed types. Specify dtype option on import or set low_memory=False.\n",
            "  df = pd.read_csv(f\"{path}/PRESCRIPTIONS.csv\")\n"
          ]
        }
      ]
    },
    {
      "cell_type": "code",
      "source": [
        "df.head()"
      ],
      "metadata": {
        "colab": {
          "base_uri": "https://localhost:8080/",
          "height": 399
        },
        "id": "iWwyqZA9hwKu",
        "outputId": "16d03866-6871-4008-bbed-619889946ae7"
      },
      "execution_count": 4,
      "outputs": [
        {
          "output_type": "execute_result",
          "data": {
            "text/plain": [
              "    ROW_ID  SUBJECT_ID  HADM_ID  ICUSTAY_ID            STARTDATE  \\\n",
              "0  2214776           6   107064         NaN  2175-06-11 00:00:00   \n",
              "1  2214775           6   107064         NaN  2175-06-11 00:00:00   \n",
              "2  2215524           6   107064         NaN  2175-06-11 00:00:00   \n",
              "3  2216265           6   107064         NaN  2175-06-11 00:00:00   \n",
              "4  2214773           6   107064         NaN  2175-06-11 00:00:00   \n",
              "\n",
              "               ENDDATE DRUG_TYPE            DRUG DRUG_NAME_POE  \\\n",
              "0  2175-06-12 00:00:00      MAIN      Tacrolimus    Tacrolimus   \n",
              "1  2175-06-12 00:00:00      MAIN        Warfarin      Warfarin   \n",
              "2  2175-06-12 00:00:00      MAIN  Heparin Sodium           NaN   \n",
              "3  2175-06-12 00:00:00      BASE             D5W           NaN   \n",
              "4  2175-06-12 00:00:00      MAIN      Furosemide    Furosemide   \n",
              "\n",
              "  DRUG_NAME_GENERIC FORMULARY_DRUG_CD     GSN          NDC  \\\n",
              "0        Tacrolimus             TACR1  021796  469061711.0   \n",
              "1          Warfarin             WARF5  006562   56017275.0   \n",
              "2               NaN        HEPAPREMIX  006522  338055002.0   \n",
              "3               NaN           HEPBASE     NaN          0.0   \n",
              "4        Furosemide            FURO20  008208   54829725.0   \n",
              "\n",
              "            PROD_STRENGTH DOSE_VAL_RX DOSE_UNIT_RX FORM_VAL_DISP  \\\n",
              "0             1mg Capsule           2           mg             2   \n",
              "1              5mg Tablet           5           mg             1   \n",
              "2  25,000 unit Premix Bag      25,000         UNIT             1   \n",
              "3            HEPARIN BASE         250           ml           250   \n",
              "4             20mg Tablet          20           mg             1   \n",
              "\n",
              "  FORM_UNIT_DISP ROUTE  \n",
              "0            CAP    PO  \n",
              "1            TAB    PO  \n",
              "2            BAG    IV  \n",
              "3             ml    IV  \n",
              "4            TAB    PO  "
            ],
            "text/html": [
              "\n",
              "  <div id=\"df-57614b24-eaa6-4d9f-8f63-1c5b86ae8d85\" class=\"colab-df-container\">\n",
              "    <div>\n",
              "<style scoped>\n",
              "    .dataframe tbody tr th:only-of-type {\n",
              "        vertical-align: middle;\n",
              "    }\n",
              "\n",
              "    .dataframe tbody tr th {\n",
              "        vertical-align: top;\n",
              "    }\n",
              "\n",
              "    .dataframe thead th {\n",
              "        text-align: right;\n",
              "    }\n",
              "</style>\n",
              "<table border=\"1\" class=\"dataframe\">\n",
              "  <thead>\n",
              "    <tr style=\"text-align: right;\">\n",
              "      <th></th>\n",
              "      <th>ROW_ID</th>\n",
              "      <th>SUBJECT_ID</th>\n",
              "      <th>HADM_ID</th>\n",
              "      <th>ICUSTAY_ID</th>\n",
              "      <th>STARTDATE</th>\n",
              "      <th>ENDDATE</th>\n",
              "      <th>DRUG_TYPE</th>\n",
              "      <th>DRUG</th>\n",
              "      <th>DRUG_NAME_POE</th>\n",
              "      <th>DRUG_NAME_GENERIC</th>\n",
              "      <th>FORMULARY_DRUG_CD</th>\n",
              "      <th>GSN</th>\n",
              "      <th>NDC</th>\n",
              "      <th>PROD_STRENGTH</th>\n",
              "      <th>DOSE_VAL_RX</th>\n",
              "      <th>DOSE_UNIT_RX</th>\n",
              "      <th>FORM_VAL_DISP</th>\n",
              "      <th>FORM_UNIT_DISP</th>\n",
              "      <th>ROUTE</th>\n",
              "    </tr>\n",
              "  </thead>\n",
              "  <tbody>\n",
              "    <tr>\n",
              "      <th>0</th>\n",
              "      <td>2214776</td>\n",
              "      <td>6</td>\n",
              "      <td>107064</td>\n",
              "      <td>NaN</td>\n",
              "      <td>2175-06-11 00:00:00</td>\n",
              "      <td>2175-06-12 00:00:00</td>\n",
              "      <td>MAIN</td>\n",
              "      <td>Tacrolimus</td>\n",
              "      <td>Tacrolimus</td>\n",
              "      <td>Tacrolimus</td>\n",
              "      <td>TACR1</td>\n",
              "      <td>021796</td>\n",
              "      <td>469061711.0</td>\n",
              "      <td>1mg Capsule</td>\n",
              "      <td>2</td>\n",
              "      <td>mg</td>\n",
              "      <td>2</td>\n",
              "      <td>CAP</td>\n",
              "      <td>PO</td>\n",
              "    </tr>\n",
              "    <tr>\n",
              "      <th>1</th>\n",
              "      <td>2214775</td>\n",
              "      <td>6</td>\n",
              "      <td>107064</td>\n",
              "      <td>NaN</td>\n",
              "      <td>2175-06-11 00:00:00</td>\n",
              "      <td>2175-06-12 00:00:00</td>\n",
              "      <td>MAIN</td>\n",
              "      <td>Warfarin</td>\n",
              "      <td>Warfarin</td>\n",
              "      <td>Warfarin</td>\n",
              "      <td>WARF5</td>\n",
              "      <td>006562</td>\n",
              "      <td>56017275.0</td>\n",
              "      <td>5mg Tablet</td>\n",
              "      <td>5</td>\n",
              "      <td>mg</td>\n",
              "      <td>1</td>\n",
              "      <td>TAB</td>\n",
              "      <td>PO</td>\n",
              "    </tr>\n",
              "    <tr>\n",
              "      <th>2</th>\n",
              "      <td>2215524</td>\n",
              "      <td>6</td>\n",
              "      <td>107064</td>\n",
              "      <td>NaN</td>\n",
              "      <td>2175-06-11 00:00:00</td>\n",
              "      <td>2175-06-12 00:00:00</td>\n",
              "      <td>MAIN</td>\n",
              "      <td>Heparin Sodium</td>\n",
              "      <td>NaN</td>\n",
              "      <td>NaN</td>\n",
              "      <td>HEPAPREMIX</td>\n",
              "      <td>006522</td>\n",
              "      <td>338055002.0</td>\n",
              "      <td>25,000 unit Premix Bag</td>\n",
              "      <td>25,000</td>\n",
              "      <td>UNIT</td>\n",
              "      <td>1</td>\n",
              "      <td>BAG</td>\n",
              "      <td>IV</td>\n",
              "    </tr>\n",
              "    <tr>\n",
              "      <th>3</th>\n",
              "      <td>2216265</td>\n",
              "      <td>6</td>\n",
              "      <td>107064</td>\n",
              "      <td>NaN</td>\n",
              "      <td>2175-06-11 00:00:00</td>\n",
              "      <td>2175-06-12 00:00:00</td>\n",
              "      <td>BASE</td>\n",
              "      <td>D5W</td>\n",
              "      <td>NaN</td>\n",
              "      <td>NaN</td>\n",
              "      <td>HEPBASE</td>\n",
              "      <td>NaN</td>\n",
              "      <td>0.0</td>\n",
              "      <td>HEPARIN BASE</td>\n",
              "      <td>250</td>\n",
              "      <td>ml</td>\n",
              "      <td>250</td>\n",
              "      <td>ml</td>\n",
              "      <td>IV</td>\n",
              "    </tr>\n",
              "    <tr>\n",
              "      <th>4</th>\n",
              "      <td>2214773</td>\n",
              "      <td>6</td>\n",
              "      <td>107064</td>\n",
              "      <td>NaN</td>\n",
              "      <td>2175-06-11 00:00:00</td>\n",
              "      <td>2175-06-12 00:00:00</td>\n",
              "      <td>MAIN</td>\n",
              "      <td>Furosemide</td>\n",
              "      <td>Furosemide</td>\n",
              "      <td>Furosemide</td>\n",
              "      <td>FURO20</td>\n",
              "      <td>008208</td>\n",
              "      <td>54829725.0</td>\n",
              "      <td>20mg Tablet</td>\n",
              "      <td>20</td>\n",
              "      <td>mg</td>\n",
              "      <td>1</td>\n",
              "      <td>TAB</td>\n",
              "      <td>PO</td>\n",
              "    </tr>\n",
              "  </tbody>\n",
              "</table>\n",
              "</div>\n",
              "    <div class=\"colab-df-buttons\">\n",
              "\n",
              "  <div class=\"colab-df-container\">\n",
              "    <button class=\"colab-df-convert\" onclick=\"convertToInteractive('df-57614b24-eaa6-4d9f-8f63-1c5b86ae8d85')\"\n",
              "            title=\"Convert this dataframe to an interactive table.\"\n",
              "            style=\"display:none;\">\n",
              "\n",
              "  <svg xmlns=\"http://www.w3.org/2000/svg\" height=\"24px\" viewBox=\"0 -960 960 960\">\n",
              "    <path d=\"M120-120v-720h720v720H120Zm60-500h600v-160H180v160Zm220 220h160v-160H400v160Zm0 220h160v-160H400v160ZM180-400h160v-160H180v160Zm440 0h160v-160H620v160ZM180-180h160v-160H180v160Zm440 0h160v-160H620v160Z\"/>\n",
              "  </svg>\n",
              "    </button>\n",
              "\n",
              "  <style>\n",
              "    .colab-df-container {\n",
              "      display:flex;\n",
              "      gap: 12px;\n",
              "    }\n",
              "\n",
              "    .colab-df-convert {\n",
              "      background-color: #E8F0FE;\n",
              "      border: none;\n",
              "      border-radius: 50%;\n",
              "      cursor: pointer;\n",
              "      display: none;\n",
              "      fill: #1967D2;\n",
              "      height: 32px;\n",
              "      padding: 0 0 0 0;\n",
              "      width: 32px;\n",
              "    }\n",
              "\n",
              "    .colab-df-convert:hover {\n",
              "      background-color: #E2EBFA;\n",
              "      box-shadow: 0px 1px 2px rgba(60, 64, 67, 0.3), 0px 1px 3px 1px rgba(60, 64, 67, 0.15);\n",
              "      fill: #174EA6;\n",
              "    }\n",
              "\n",
              "    .colab-df-buttons div {\n",
              "      margin-bottom: 4px;\n",
              "    }\n",
              "\n",
              "    [theme=dark] .colab-df-convert {\n",
              "      background-color: #3B4455;\n",
              "      fill: #D2E3FC;\n",
              "    }\n",
              "\n",
              "    [theme=dark] .colab-df-convert:hover {\n",
              "      background-color: #434B5C;\n",
              "      box-shadow: 0px 1px 3px 1px rgba(0, 0, 0, 0.15);\n",
              "      filter: drop-shadow(0px 1px 2px rgba(0, 0, 0, 0.3));\n",
              "      fill: #FFFFFF;\n",
              "    }\n",
              "  </style>\n",
              "\n",
              "    <script>\n",
              "      const buttonEl =\n",
              "        document.querySelector('#df-57614b24-eaa6-4d9f-8f63-1c5b86ae8d85 button.colab-df-convert');\n",
              "      buttonEl.style.display =\n",
              "        google.colab.kernel.accessAllowed ? 'block' : 'none';\n",
              "\n",
              "      async function convertToInteractive(key) {\n",
              "        const element = document.querySelector('#df-57614b24-eaa6-4d9f-8f63-1c5b86ae8d85');\n",
              "        const dataTable =\n",
              "          await google.colab.kernel.invokeFunction('convertToInteractive',\n",
              "                                                    [key], {});\n",
              "        if (!dataTable) return;\n",
              "\n",
              "        const docLinkHtml = 'Like what you see? Visit the ' +\n",
              "          '<a target=\"_blank\" href=https://colab.research.google.com/notebooks/data_table.ipynb>data table notebook</a>'\n",
              "          + ' to learn more about interactive tables.';\n",
              "        element.innerHTML = '';\n",
              "        dataTable['output_type'] = 'display_data';\n",
              "        await google.colab.output.renderOutput(dataTable, element);\n",
              "        const docLink = document.createElement('div');\n",
              "        docLink.innerHTML = docLinkHtml;\n",
              "        element.appendChild(docLink);\n",
              "      }\n",
              "    </script>\n",
              "  </div>\n",
              "\n",
              "\n",
              "<div id=\"df-b60c946b-4ef8-4fb9-9af8-a46555b4b886\">\n",
              "  <button class=\"colab-df-quickchart\" onclick=\"quickchart('df-b60c946b-4ef8-4fb9-9af8-a46555b4b886')\"\n",
              "            title=\"Suggest charts\"\n",
              "            style=\"display:none;\">\n",
              "\n",
              "<svg xmlns=\"http://www.w3.org/2000/svg\" height=\"24px\"viewBox=\"0 0 24 24\"\n",
              "     width=\"24px\">\n",
              "    <g>\n",
              "        <path d=\"M19 3H5c-1.1 0-2 .9-2 2v14c0 1.1.9 2 2 2h14c1.1 0 2-.9 2-2V5c0-1.1-.9-2-2-2zM9 17H7v-7h2v7zm4 0h-2V7h2v10zm4 0h-2v-4h2v4z\"/>\n",
              "    </g>\n",
              "</svg>\n",
              "  </button>\n",
              "\n",
              "<style>\n",
              "  .colab-df-quickchart {\n",
              "      --bg-color: #E8F0FE;\n",
              "      --fill-color: #1967D2;\n",
              "      --hover-bg-color: #E2EBFA;\n",
              "      --hover-fill-color: #174EA6;\n",
              "      --disabled-fill-color: #AAA;\n",
              "      --disabled-bg-color: #DDD;\n",
              "  }\n",
              "\n",
              "  [theme=dark] .colab-df-quickchart {\n",
              "      --bg-color: #3B4455;\n",
              "      --fill-color: #D2E3FC;\n",
              "      --hover-bg-color: #434B5C;\n",
              "      --hover-fill-color: #FFFFFF;\n",
              "      --disabled-bg-color: #3B4455;\n",
              "      --disabled-fill-color: #666;\n",
              "  }\n",
              "\n",
              "  .colab-df-quickchart {\n",
              "    background-color: var(--bg-color);\n",
              "    border: none;\n",
              "    border-radius: 50%;\n",
              "    cursor: pointer;\n",
              "    display: none;\n",
              "    fill: var(--fill-color);\n",
              "    height: 32px;\n",
              "    padding: 0;\n",
              "    width: 32px;\n",
              "  }\n",
              "\n",
              "  .colab-df-quickchart:hover {\n",
              "    background-color: var(--hover-bg-color);\n",
              "    box-shadow: 0 1px 2px rgba(60, 64, 67, 0.3), 0 1px 3px 1px rgba(60, 64, 67, 0.15);\n",
              "    fill: var(--button-hover-fill-color);\n",
              "  }\n",
              "\n",
              "  .colab-df-quickchart-complete:disabled,\n",
              "  .colab-df-quickchart-complete:disabled:hover {\n",
              "    background-color: var(--disabled-bg-color);\n",
              "    fill: var(--disabled-fill-color);\n",
              "    box-shadow: none;\n",
              "  }\n",
              "\n",
              "  .colab-df-spinner {\n",
              "    border: 2px solid var(--fill-color);\n",
              "    border-color: transparent;\n",
              "    border-bottom-color: var(--fill-color);\n",
              "    animation:\n",
              "      spin 1s steps(1) infinite;\n",
              "  }\n",
              "\n",
              "  @keyframes spin {\n",
              "    0% {\n",
              "      border-color: transparent;\n",
              "      border-bottom-color: var(--fill-color);\n",
              "      border-left-color: var(--fill-color);\n",
              "    }\n",
              "    20% {\n",
              "      border-color: transparent;\n",
              "      border-left-color: var(--fill-color);\n",
              "      border-top-color: var(--fill-color);\n",
              "    }\n",
              "    30% {\n",
              "      border-color: transparent;\n",
              "      border-left-color: var(--fill-color);\n",
              "      border-top-color: var(--fill-color);\n",
              "      border-right-color: var(--fill-color);\n",
              "    }\n",
              "    40% {\n",
              "      border-color: transparent;\n",
              "      border-right-color: var(--fill-color);\n",
              "      border-top-color: var(--fill-color);\n",
              "    }\n",
              "    60% {\n",
              "      border-color: transparent;\n",
              "      border-right-color: var(--fill-color);\n",
              "    }\n",
              "    80% {\n",
              "      border-color: transparent;\n",
              "      border-right-color: var(--fill-color);\n",
              "      border-bottom-color: var(--fill-color);\n",
              "    }\n",
              "    90% {\n",
              "      border-color: transparent;\n",
              "      border-bottom-color: var(--fill-color);\n",
              "    }\n",
              "  }\n",
              "</style>\n",
              "\n",
              "  <script>\n",
              "    async function quickchart(key) {\n",
              "      const quickchartButtonEl =\n",
              "        document.querySelector('#' + key + ' button');\n",
              "      quickchartButtonEl.disabled = true;  // To prevent multiple clicks.\n",
              "      quickchartButtonEl.classList.add('colab-df-spinner');\n",
              "      try {\n",
              "        const charts = await google.colab.kernel.invokeFunction(\n",
              "            'suggestCharts', [key], {});\n",
              "      } catch (error) {\n",
              "        console.error('Error during call to suggestCharts:', error);\n",
              "      }\n",
              "      quickchartButtonEl.classList.remove('colab-df-spinner');\n",
              "      quickchartButtonEl.classList.add('colab-df-quickchart-complete');\n",
              "    }\n",
              "    (() => {\n",
              "      let quickchartButtonEl =\n",
              "        document.querySelector('#df-b60c946b-4ef8-4fb9-9af8-a46555b4b886 button');\n",
              "      quickchartButtonEl.style.display =\n",
              "        google.colab.kernel.accessAllowed ? 'block' : 'none';\n",
              "    })();\n",
              "  </script>\n",
              "</div>\n",
              "\n",
              "    </div>\n",
              "  </div>\n"
            ],
            "application/vnd.google.colaboratory.intrinsic+json": {
              "type": "dataframe",
              "variable_name": "df"
            }
          },
          "metadata": {},
          "execution_count": 4
        }
      ]
    },
    {
      "cell_type": "code",
      "source": [
        "df.info()"
      ],
      "metadata": {
        "colab": {
          "base_uri": "https://localhost:8080/"
        },
        "id": "OBLORZbQj86p",
        "outputId": "4d371864-439b-476b-8a0d-9db055f755d0"
      },
      "execution_count": 6,
      "outputs": [
        {
          "output_type": "stream",
          "name": "stdout",
          "text": [
            "<class 'pandas.core.frame.DataFrame'>\n",
            "RangeIndex: 4156450 entries, 0 to 4156449\n",
            "Data columns (total 19 columns):\n",
            " #   Column             Dtype  \n",
            "---  ------             -----  \n",
            " 0   ROW_ID             int64  \n",
            " 1   SUBJECT_ID         int64  \n",
            " 2   HADM_ID            int64  \n",
            " 3   ICUSTAY_ID         float64\n",
            " 4   STARTDATE          object \n",
            " 5   ENDDATE            object \n",
            " 6   DRUG_TYPE          object \n",
            " 7   DRUG               object \n",
            " 8   DRUG_NAME_POE      object \n",
            " 9   DRUG_NAME_GENERIC  object \n",
            " 10  FORMULARY_DRUG_CD  object \n",
            " 11  GSN                object \n",
            " 12  NDC                float64\n",
            " 13  PROD_STRENGTH      object \n",
            " 14  DOSE_VAL_RX        object \n",
            " 15  DOSE_UNIT_RX       object \n",
            " 16  FORM_VAL_DISP      object \n",
            " 17  FORM_UNIT_DISP     object \n",
            " 18  ROUTE              object \n",
            "dtypes: float64(2), int64(3), object(14)\n",
            "memory usage: 602.5+ MB\n"
          ]
        }
      ]
    },
    {
      "cell_type": "code",
      "source": [
        "df = df.dropna(subset=['DOSE_VAL_RX', 'DRUG'])"
      ],
      "metadata": {
        "id": "53c376VfhwIp"
      },
      "execution_count": 7,
      "outputs": []
    },
    {
      "cell_type": "code",
      "source": [
        "df['DOSE_VAL_RX'] = pd.to_numeric(df['DOSE_VAL_RX'], errors='coerce')\n",
        "df = df.dropna(subset=['DOSE_VAL_RX'])  # Drop rows where conversion failed"
      ],
      "metadata": {
        "colab": {
          "base_uri": "https://localhost:8080/"
        },
        "id": "gqvZ7ITChwGo",
        "outputId": "9b73eebc-7f56-4390-c412-cfcd6efd7ff4"
      },
      "execution_count": 8,
      "outputs": [
        {
          "output_type": "stream",
          "name": "stderr",
          "text": [
            "<ipython-input-8-907b5317451a>:1: SettingWithCopyWarning: \n",
            "A value is trying to be set on a copy of a slice from a DataFrame.\n",
            "Try using .loc[row_indexer,col_indexer] = value instead\n",
            "\n",
            "See the caveats in the documentation: https://pandas.pydata.org/pandas-docs/stable/user_guide/indexing.html#returning-a-view-versus-a-copy\n",
            "  df['DOSE_VAL_RX'] = pd.to_numeric(df['DOSE_VAL_RX'], errors='coerce')\n"
          ]
        }
      ]
    },
    {
      "cell_type": "code",
      "source": [
        "# Summary statistics for dosage values\n",
        "print(\"\\nSummary Statistics for Dosage Values:\")\n",
        "print(df['DOSE_VAL_RX'].describe())"
      ],
      "metadata": {
        "colab": {
          "base_uri": "https://localhost:8080/"
        },
        "id": "5nz7je3PhwEv",
        "outputId": "bf61cf34-e605-4b45-a43b-50a994722999"
      },
      "execution_count": 9,
      "outputs": [
        {
          "output_type": "stream",
          "name": "stdout",
          "text": [
            "\n",
            "Summary Statistics for Dosage Values:\n",
            "count    3.879116e+06\n",
            "mean     3.087770e+02\n",
            "std      5.235360e+04\n",
            "min     -1.000000e+03\n",
            "25%      4.000000e+00\n",
            "50%      4.000000e+01\n",
            "75%      2.000000e+02\n",
            "max      1.000000e+08\n",
            "Name: DOSE_VAL_RX, dtype: float64\n"
          ]
        }
      ]
    },
    {
      "cell_type": "code",
      "source": [
        "# Skewness and Kurtosis\n",
        "print(f\"Skewness: {df['DOSE_VAL_RX'].skew():.2f}\")\n",
        "print(f\"Kurtosis: {df['DOSE_VAL_RX'].kurtosis():.2f}\")"
      ],
      "metadata": {
        "colab": {
          "base_uri": "https://localhost:8080/"
        },
        "id": "T5t6lOb0hwC7",
        "outputId": "eb69fbe1-45df-440c-b574-e3b3ec18efac"
      },
      "execution_count": 10,
      "outputs": [
        {
          "output_type": "stream",
          "name": "stdout",
          "text": [
            "Skewness: 1824.56\n",
            "Kurtosis: 3444840.64\n"
          ]
        }
      ]
    },
    {
      "cell_type": "code",
      "source": [
        "# Top 10 most prescribed drugs\n",
        "top_drugs = df['DRUG'].value_counts().head(10)\n",
        "print(\"\\nTop 10 Most Prescribed Drugs:\\n\", top_drugs)"
      ],
      "metadata": {
        "colab": {
          "base_uri": "https://localhost:8080/"
        },
        "id": "Afu1a-VVhwA1",
        "outputId": "0b7b60c1-5df3-42ba-f804-05bc8ad692ab"
      },
      "execution_count": 11,
      "outputs": [
        {
          "output_type": "stream",
          "name": "stdout",
          "text": [
            "\n",
            "Top 10 Most Prescribed Drugs:\n",
            " DRUG\n",
            "Potassium Chloride             186285\n",
            "Insulin                        143440\n",
            "D5W                            142205\n",
            "Furosemide                     133086\n",
            "NS                             129587\n",
            "0.9% Sodium Chloride           128473\n",
            "Iso-Osmotic Dextrose            87004\n",
            "Sodium Chloride 0.9%  Flush     83386\n",
            "Magnesium Sulfate               83109\n",
            "5% Dextrose                     73776\n",
            "Name: count, dtype: int64\n"
          ]
        }
      ]
    },
    {
      "cell_type": "code",
      "source": [
        "plt.figure(figsize=(10, 5))\n",
        "sns.barplot(x=top_drugs.index, y=top_drugs.values, palette='viridis')\n",
        "plt.xticks(rotation=45)\n",
        "plt.title(\"Top 10 Most Prescribed Drugs\")\n",
        "plt.ylabel(\"Count\")\n",
        "plt.xlabel(\"Drug Name\")\n",
        "plt.show()\n"
      ],
      "metadata": {
        "colab": {
          "base_uri": "https://localhost:8080/",
          "height": 715
        },
        "id": "aoMUdEOahv-_",
        "outputId": "e4646de3-13a5-4fb6-cc55-867180be377e"
      },
      "execution_count": 12,
      "outputs": [
        {
          "output_type": "stream",
          "name": "stderr",
          "text": [
            "<ipython-input-12-fced5f8061b8>:2: FutureWarning: \n",
            "\n",
            "Passing `palette` without assigning `hue` is deprecated and will be removed in v0.14.0. Assign the `x` variable to `hue` and set `legend=False` for the same effect.\n",
            "\n",
            "  sns.barplot(x=top_drugs.index, y=top_drugs.values, palette='viridis')\n"
          ]
        },
        {
          "output_type": "display_data",
          "data": {
            "text/plain": [
              "<Figure size 1000x500 with 1 Axes>"
            ],
            "image/png": "[encoded data removed]"
          },
          "metadata": {}
        }
      ]
    },
    {
      "cell_type": "code",
      "source": [
        "plt.figure(figsize=(8, 5))\n",
        "sns.histplot(df['DOSE_VAL_RX'], kde=True, color='blue', bins=30)\n",
        "plt.title(\"Dosage Value Distribution\")\n",
        "plt.xlabel(\"Dosage Value (mg)\")\n",
        "plt.ylabel(\"Frequency\")\n",
        "plt.show()"
      ],
      "metadata": {
        "colab": {
          "base_uri": "https://localhost:8080/",
          "height": 487
        },
        "id": "Cm1Kl8m3hv84",
        "outputId": "424f7bf3-83a8-4f1e-da13-dbc478899f89"
      },
      "execution_count": 13,
      "outputs": [
        {
          "output_type": "display_data",
          "data": {
            "text/plain": [
              "<Figure size 800x500 with 1 Axes>"
            ],
            "image/png": "[encoded data removed]"
          },
          "metadata": {}
        }
      ]
    },
    {
      "cell_type": "code",
      "source": [
        "plt.figure(figsize=(6, 6))\n",
        "stats.probplot(df['DOSE_VAL_RX'], dist=\"norm\", plot=plt)\n",
        "plt.title(\"Q-Q Plot for Dosage Values\")\n",
        "plt.show()"
      ],
      "metadata": {
        "colab": {
          "base_uri": "https://localhost:8080/",
          "height": 564
        },
        "id": "Ddc7CYAFhv7F",
        "outputId": "9eac6fda-5772-489a-bc6f-3d862beb6080"
      },
      "execution_count": 14,
      "outputs": [
        {
          "output_type": "display_data",
          "data": {
            "text/plain": [
              "<Figure size 600x600 with 1 Axes>"
            ],
            "image/png": "[encoded data removed]"
          },
          "metadata": {}
        }
      ]
    },
    {
      "cell_type": "code",
      "source": [
        "shapiro_test = stats.shapiro(df['DOSE_VAL_RX'].sample(500))  # Shapiro test (using sample if large dataset)\n",
        "ks_test = stats.kstest(df['DOSE_VAL_RX'], 'norm', args=(df['DOSE_VAL_RX'].mean(), df['DOSE_VAL_RX'].std()))\n",
        "print(f\"Shapiro-Wilk Test p-value: {shapiro_test.pvalue:.4f}\")\n",
        "print(f\"Kolmogorov-Smirnov Test p-value: {ks_test.pvalue:.4f}\")"
      ],
      "metadata": {
        "colab": {
          "base_uri": "https://localhost:8080/"
        },
        "id": "lov9uCSxhv4_",
        "outputId": "db58eede-00ef-43b3-e73c-047611ca8ef8"
      },
      "execution_count": 15,
      "outputs": [
        {
          "output_type": "stream",
          "name": "stdout",
          "text": [
            "Shapiro-Wilk Test p-value: 0.0000\n",
            "Kolmogorov-Smirnov Test p-value: 0.0000\n"
          ]
        }
      ]
    },
    {
      "cell_type": "code",
      "source": [
        "ci_lower, ci_upper = stats.norm.interval(0.95, loc=df['DOSE_VAL_RX'].mean(), scale=df['DOSE_VAL_RX'].std() / np.sqrt(len(df)))\n",
        "print(f\"95% Confidence Interval for Dosage: ({ci_lower:.2f}, {ci_upper:.2f})\")\n"
      ],
      "metadata": {
        "colab": {
          "base_uri": "https://localhost:8080/"
        },
        "id": "qVmw7Yadhv3L",
        "outputId": "8a81ae76-c1b1-4fe2-bf10-3056936a4e87"
      },
      "execution_count": 16,
      "outputs": [
        {
          "output_type": "stream",
          "name": "stdout",
          "text": [
            "95% Confidence Interval for Dosage: (256.68, 360.88)\n"
          ]
        }
      ]
    },
    {
      "cell_type": "code",
      "source": [
        "route_counts = df['ROUTE'].value_counts().head(10)\n",
        "print(\"\\nTop 10 Drug Administration Routes:\\n\", route_counts)"
      ],
      "metadata": {
        "colab": {
          "base_uri": "https://localhost:8080/"
        },
        "id": "nNzVmXLPkf-3",
        "outputId": "c4296723-58f8-4335-b73b-8fbc3eebd900"
      },
      "execution_count": 17,
      "outputs": [
        {
          "output_type": "stream",
          "name": "stdout",
          "text": [
            "\n",
            "Top 10 Drug Administration Routes:\n",
            " ROUTE\n",
            "IV         1875668\n",
            "PO          919381\n",
            "IV DRIP     320426\n",
            "PO/NG       227491\n",
            "SC          208604\n",
            "IH           69643\n",
            "IM           44726\n",
            "PR           42217\n",
            "NG           39379\n",
            "TP           29122\n",
            "Name: count, dtype: int64\n"
          ]
        }
      ]
    },
    {
      "cell_type": "code",
      "source": [
        "plt.figure(figsize=(10, 5))\n",
        "sns.barplot(x=route_counts.index, y=route_counts.values, palette='magma')\n",
        "plt.xticks(rotation=45)\n",
        "plt.title(\"Top Drug Administration Routes\")\n",
        "plt.ylabel(\"Count\")\n",
        "plt.xlabel(\"Route\")\n",
        "plt.show()"
      ],
      "metadata": {
        "colab": {
          "base_uri": "https://localhost:8080/",
          "height": 610
        },
        "id": "Lv-VJIh1kf7K",
        "outputId": "af0aa37e-ef98-4aad-8d28-0fd990568347"
      },
      "execution_count": 18,
      "outputs": [
        {
          "output_type": "stream",
          "name": "stderr",
          "text": [
            "<ipython-input-18-9b3723985e20>:2: FutureWarning: \n",
            "\n",
            "Passing `palette` without assigning `hue` is deprecated and will be removed in v0.14.0. Assign the `x` variable to `hue` and set `legend=False` for the same effect.\n",
            "\n",
            "  sns.barplot(x=route_counts.index, y=route_counts.values, palette='magma')\n"
          ]
        },
        {
          "output_type": "display_data",
          "data": {
            "text/plain": [
              "<Figure size 1000x500 with 1 Axes>"
            ],
            "image/png": "[encoded data removed]"
          },
          "metadata": {}
        }
      ]
    },
    {
      "cell_type": "code",
      "source": [],
      "metadata": {
        "id": "uXa77K6Lkf4z"
      },
      "execution_count": null,
      "outputs": []
    },
    {
      "cell_type": "code",
      "source": [],
      "metadata": {
        "id": "T4soo2iSkf2z"
      },
      "execution_count": null,
      "outputs": []
    }
  ]
}
