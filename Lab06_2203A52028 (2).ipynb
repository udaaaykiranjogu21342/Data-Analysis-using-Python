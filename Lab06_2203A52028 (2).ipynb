{
  "nbformat": 4,
  "nbformat_minor": 0,
  "metadata": {
    "colab": {
      "provenance": [],
      "gpuType": "T4"
    },
    "kernelspec": {
      "name": "python3",
      "display_name": "Python 3"
    },
    "language_info": {
      "name": "python"
    },
    "accelerator": "GPU"
  },
  "cells": [
    {
      "cell_type": "code",
      "execution_count": 4,
      "metadata": {
        "colab": {
          "base_uri": "https://localhost:8080/"
        },
        "id": "sV2nVNIdGXoG",
        "outputId": "d44faa3d-a99b-4475-c7d9-da03646eeeaf"
      },
      "outputs": [
        {
          "output_type": "stream",
          "name": "stdout",
          "text": [
            "P(A) - Member customer: 0.501\n",
            "P(B) - Credit Card payment: 0.311\n",
            "P(A ∩ B) - Member & Credit Card: 0.172\n",
            "P(A ∪ B) - Member OR Credit Card: 0.640\n",
            "P(A | B) - Member given Credit Card: 0.553\n",
            "P(Health & Beauty): 0.152\n",
            "P(More than 5 items | Ewallet): 0.487\n",
            "P(Cash | Yangon): 0.324\n",
            "P(Member & Rating > 8): 0.157\n",
            "Factorial(Branches): 6.000\n",
            "Permutation(5 transactions from 20): 1860480.000\n",
            "Combination(3 product lines from 6): 20.000\n",
            "Permutation(4 payment methods from 3): 0.000\n",
            "Combination(5 employees from 15): 3003.000\n",
            "Permutation(6 letters from 26): 165765600.000\n"
          ]
        }
      ],
      "source": [
        "import pandas as pd\n",
        "import math\n",
        "from itertools import permutations, combinations\n",
        "\n",
        "file_path = \"/content/supermarket_sales -.csv\"\n",
        "df = pd.read_csv(file_path)\n",
        "\n",
        "def factorial(n):\n",
        "    return math.factorial(n)\n",
        "\n",
        "def permutation(n, r):\n",
        "    return math.factorial(n) // math.factorial(n - r)\n",
        "\n",
        "def combination(n, r):\n",
        "    return math.factorial(n) // (math.factorial(r) * math.factorial(n - r))\n",
        "\n",
        "total_transactions = len(df)\n",
        "\n",
        "count_A = len(df[df[\"Customer type\"] == \"Member\"])\n",
        "P_A = count_A / total_transactions\n",
        "\n",
        "count_B = len(df[df[\"Payment\"] == \"Credit card\"])\n",
        "P_B = count_B / total_transactions\n",
        "\n",
        "count_A_and_B = len(df[(df[\"Customer type\"] == \"Member\") & (df[\"Payment\"] == \"Credit card\")])\n",
        "P_A_inter_B = count_A_and_B / total_transactions\n",
        "\n",
        "P_A_union_B = P_A + P_B - P_A_inter_B\n",
        "\n",
        "P_A_given_B = P_A_inter_B / P_B if P_B != 0 else 0\n",
        "\n",
        "count_health_beauty = len(df[df[\"Product line\"] == \"Health and beauty\"])\n",
        "P_health_beauty = count_health_beauty / total_transactions\n",
        "df_ewallet = df[df[\"Payment\"] == \"Ewallet\"]\n",
        "count_ewallet_more_than_5 = len(df_ewallet[df_ewallet[\"Quantity\"] > 5])\n",
        "P_more_than_5_given_ewallet = count_ewallet_more_than_5 / len(df_ewallet) if len(df_ewallet) != 0 else 0\n",
        "\n",
        "df_yangon = df[df[\"City\"] == \"Yangon\"]\n",
        "count_yangon_cash = len(df_yangon[df_yangon[\"Payment\"] == \"Cash\"])\n",
        "P_cash_given_yangon = count_yangon_cash / len(df_yangon) if len(df_yangon) != 0 else 0\n",
        "\n",
        "count_member_rating_above_8 = len(df[(df[\"Customer type\"] == \"Member\") & (df[\"Rating\"] > 8)])\n",
        "P_member_rating_above_8 = count_member_rating_above_8 / total_transactions\n",
        "\n",
        "num_branches = df[\"Branch\"].nunique()\n",
        "factorial_branches = factorial(num_branches)\n",
        "\n",
        "perm_transactions = permutation(20, 5)\n",
        "\n",
        "comb_product_lines = combination(6, 3)\n",
        "\n",
        "perm_payment_methods = permutation(3, 4) if 3 >= 4 else 0\n",
        "\n",
        "comb_employees = combination(15, 5)\n",
        "\n",
        "perm_invoice_codes = permutation(26, 6)\n",
        "\n",
        "probabilities = {\n",
        "    \"P(A) - Member customer\": P_A,\n",
        "    \"P(B) - Credit Card payment\": P_B,\n",
        "    \"P(A ∩ B) - Member & Credit Card\": P_A_inter_B,\n",
        "    \"P(A ∪ B) - Member OR Credit Card\": P_A_union_B,\n",
        "    \"P(A | B) - Member given Credit Card\": P_A_given_B,\n",
        "    \"P(Health & Beauty)\": P_health_beauty,\n",
        "    \"P(More than 5 items | Ewallet)\": P_more_than_5_given_ewallet,\n",
        "    \"P(Cash | Yangon)\": P_cash_given_yangon,\n",
        "    \"P(Member & Rating > 8)\": P_member_rating_above_8,\n",
        "    \"Factorial(Branches)\": factorial_branches,\n",
        "    \"Permutation(5 transactions from 20)\": perm_transactions,\n",
        "    \"Combination(3 product lines from 6)\": comb_product_lines,\n",
        "    \"Permutation(4 payment methods from 3)\": perm_payment_methods,\n",
        "    \"Combination(5 employees from 15)\": comb_employees,\n",
        "    \"Permutation(6 letters from 26)\": perm_invoice_codes,\n",
        "}\n",
        "\n",
        "for key, value in probabilities.items():\n",
        "    print(f\"{key}: {value:.3f}\")\n"
      ]
    }
  ]
}